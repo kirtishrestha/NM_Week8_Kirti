{
 "cells": [
  {
   "cell_type": "markdown",
   "id": "f53d9bac",
   "metadata": {},
   "source": [
    "# The Liebmann’s method"
   ]
  },
  {
   "cell_type": "markdown",
   "id": "ea6117d5",
   "metadata": {},
   "source": [
    "### Using Liebmann’s method to solve for the temperature of the square heated plate"
   ]
  },
  {
   "cell_type": "code",
   "execution_count": 2,
   "id": "c8181ee3",
   "metadata": {},
   "outputs": [
    {
     "name": "stdout",
     "output_type": "stream",
     "text": [
      "Final Solution:\n",
      "T13 = 89.27444\n",
      "T23 = 97.77341\n",
      "T33 = 89.28743\n",
      "T12 = 59.38522\n",
      "T22 = 62.51137\n",
      "T32 = 59.37767\n",
      "T11 = 35.71994\n",
      "T21 = 33.48618\n",
      "T31 = 35.71449\n",
      "\n",
      "Number of Iterations: 6\n",
      "\n",
      "Solved Temperature Grid:\n",
      "[150. 150. 150. 150. 150.]\n",
      "[50.         89.27444261 97.77340786 89.28743083 50.        ]\n",
      "[50.         59.38521926 62.51137376 59.3776669  50.        ]\n",
      "[50.         35.71994293 33.48617825 35.71449072 50.        ]\n",
      "[0. 0. 0. 0. 0.]\n"
     ]
    }
   ],
   "source": [
    "import numpy as np\n",
    "\n",
    "# Liebmann method function (Gauss-Seidel with overrelaxation)\n",
    "\n",
    "def liebmann_method(temperature, omega, epsilon_s = 1, max_iterations=10000):\n",
    "    max_error = 1e10\n",
    "    rows, cols = temperature.shape\n",
    "    rows -= 2\n",
    "    cols -= 2\n",
    "    iteration = 0\n",
    "\n",
    "    while max_error > epsilon_s and iteration < max_iterations:\n",
    "        max_error = 0  \n",
    "        for i in range(1, rows + 1):\n",
    "            for j in range(1, cols + 1):\n",
    "                T_old = temperature[i, j]\n",
    "                T_new = 0.25 * (temperature[i+1][j] + temperature[i-1][j] + temperature[i][j+1] + temperature[i][j-1])\n",
    "                temperature[i, j] = omega * T_new + (1 - omega) * T_old\n",
    "                max_error = max(max_error, abs(temperature[i, j] - T_old))\n",
    "        iteration += 1\n",
    "\n",
    "    return temperature, iteration\n",
    "\n",
    "# Updating the boundary conditions and initializing the temperature grid\n",
    "\n",
    "temperature_grid = np.array([\n",
    "    [150.0, 150.0, 150.0, 150.0, 150.0],\n",
    "    [50.0, 0.0, 0.0, 0.0, 50.0],\n",
    "    [50.0, 0.0, 0.0, 0.0, 50.0],\n",
    "    [50.0, 0.0, 0.0, 0.0, 50.0],\n",
    "    [0.0, 0.0, 0.0, 0.0, 0.0]\n",
    "])\n",
    "\n",
    "# Overrelaxation factor\n",
    "\n",
    "omega = 1.2\n",
    "\n",
    "# Solving for the interior temperatures using the modified Liebmann method\n",
    "\n",
    "solved_temperature, iterations_needed = liebmann_method(temperature_grid, omega)\n",
    "\n",
    "# getting the interior readings of the temperature\n",
    "\n",
    "T_interior = solved_temperature[1:-1, 1:-1]\n",
    "\n",
    "# printing the iterations as well as the temperature values\n",
    "\n",
    "print(\"Final Solution:\")\n",
    "labels = ['T13', 'T23', 'T33', 'T12', 'T22', 'T32', 'T11', 'T21', 'T31']\n",
    "for label, value in zip(labels, T_interior.flatten()):\n",
    "    print(f\"{label} = {value:.5f}\")\n",
    "\n",
    "print(\"\\nNumber of Iterations:\", iterations_needed)\n",
    "\n",
    "# Printing the calculated temperature grid in matrix form\n",
    "\n",
    "print(\"\\nSolved Temperature Grid:\")\n",
    "for row in solved_temperature:\n",
    "    print(row)"
   ]
  },
  {
   "cell_type": "code",
   "execution_count": null,
   "id": "fd6b51fa",
   "metadata": {},
   "outputs": [],
   "source": []
  }
 ],
 "metadata": {
  "kernelspec": {
   "display_name": "Python 3 (ipykernel)",
   "language": "python",
   "name": "python3"
  },
  "language_info": {
   "codemirror_mode": {
    "name": "ipython",
    "version": 3
   },
   "file_extension": ".py",
   "mimetype": "text/x-python",
   "name": "python",
   "nbconvert_exporter": "python",
   "pygments_lexer": "ipython3",
   "version": "3.11.5"
  }
 },
 "nbformat": 4,
 "nbformat_minor": 5
}
