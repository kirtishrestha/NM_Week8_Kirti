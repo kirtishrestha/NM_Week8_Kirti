{
 "cells": [
  {
   "cell_type": "markdown",
   "id": "b5c5f7b7",
   "metadata": {},
   "source": [
    "# Simulating the temperatures and fluxes for the plate"
   ]
  },
  {
   "attachments": {
    "image.png": {
     "image/png": "[encoded data removed]"
    }
   },
   "cell_type": "markdown",
   "id": "7759b6c3",
   "metadata": {},
   "source": [
    "![image.png](attachment:image.png)"
   ]
  },
  {
   "cell_type": "code",
   "execution_count": 1,
   "id": "49d2f312",
   "metadata": {},
   "outputs": [],
   "source": [
    "import numpy as np\n",
    "\n",
    "# Defining the grid size\n",
    "\n",
    "nx, ny = 10, 10  \n",
    "dx, dy = 1.0, 1.0  \n",
    "\n",
    "# Initializing the temperature grid and boundary conditions\n",
    "\n",
    "T = np.zeros((ny, nx))\n",
    "\n",
    "# Assuming top edge is at high temperature and bottom at low temperature\n",
    "\n",
    "T_high = 100.0  \n",
    "T_low = 0.0  \n",
    "T[0, :] = T_high\n",
    "T[-1, :] = T_low\n",
    "\n",
    "# Thermal conductivity\n",
    "\n",
    "k = 1.0  \n",
    "\n",
    "# Performing the simulation until the change in temperature is below a threshold\n",
    "\n",
    "threshold = 1e-5\n",
    "max_iter = 5000  \n",
    "iter_count = 0\n",
    "delta = threshold + 1.0  \n",
    "\n",
    "while delta > threshold and iter_count < max_iter:\n",
    "    T_prev = T.copy()\n",
    "    \n",
    "# Updating the temperature at each internal grid point\n",
    "\n",
    "    for i in range(1, ny - 1):\n",
    "        for j in range(1, nx - 1):\n",
    "            T[i, j] = (T_prev[i + 1, j] + T_prev[i - 1, j] + T_prev[i, j + 1] + T_prev[i, j - 1]) / 4.0\n",
    "            \n",
    "# Calculating maximum change in temperature\n",
    "\n",
    "    delta = np.max(np.abs(T - T_prev))\n",
    "    iter_count += 1\n",
    "\n",
    "# Calculating  fluxes using central difference\n",
    "\n",
    "qx = np.zeros_like(T)\n",
    "qy = np.zeros_like(T)\n",
    "for i in range(1, ny - 1):\n",
    "    for j in range(1, nx - 1):\n",
    "        qx[i, j] = -k * (T[i, j + 1] - T[i, j - 1]) / (2 * dx)\n",
    "        qy[i, j] = -k * (T[i + 1, j] - T[i - 1, j]) / (2 * dy)\n",
    "\n",
    "for j in range(nx):\n",
    "    qx[0, j] = qx[-1, j] = 0  \n",
    "    qy[0, j] = -k * (T[1, j] - T[0, j]) / dy  \n",
    "    qy[-1, j] = -k * (T[-1, j] - T[-2, j]) / dy \n",
    "    \n",
    "for i in range(ny):\n",
    "    qy[i, 0] = qy[i, -1] = 0 \n",
    "    qx[i, 0] = -k * (T[i, 1] - T[i, 0]) / dx \n",
    "    qx[i, -1] = -k * (T[i, -1] - T[i, -2]) / dx "
   ]
  },
  {
   "cell_type": "markdown",
   "id": "99716167",
   "metadata": {},
   "source": [
    "### Printing the Temperature Distribution "
   ]
  },
  {
   "cell_type": "code",
   "execution_count": 4,
   "id": "79256cbe",
   "metadata": {},
   "outputs": [
    {
     "name": "stdout",
     "output_type": "stream",
     "text": [
      "Temperature Distribution (°C):\n",
      "Top edge (y = 0): 100.0 100.0 100.0 100.0 100.0 100.0 100.0 100.0 100.0 100.0\n",
      "---------------------------------------------\n",
      "y = 1:   0.0 48.6 66.9 74.5 77.3 77.3 74.5 66.9 48.6 0.0\n",
      "y = 2:   0.0 27.6 44.6 53.6 57.6 57.6 53.6 44.6 27.6 0.0\n",
      "y = 3:   0.0 17.2 30.0 38.0 41.7 41.7 38.0 30.0 17.2 0.0\n",
      "y = 4:   0.0 11.3 20.4 26.5 29.6 29.6 26.5 20.4 11.3 0.0\n",
      "y = 5:   0.0 7.5 13.8 18.2 20.4 20.4 18.2 13.8 7.5 0.0\n",
      "y = 6:   0.0 4.9 9.0 12.0 13.6 13.6 12.0 9.0 4.9 0.0\n",
      "y = 7:   0.0 2.9 5.4 7.3 8.3 8.3 7.3 5.4 2.9 0.0\n",
      "y = 8:   0.0 1.4 2.6 3.4 3.9 3.9 3.4 2.6 1.4 0.0\n",
      "---------------------------------------------\n",
      "Bottom edge (y = 9): 0.0 0.0 0.0 0.0 0.0 0.0 0.0 0.0 0.0 0.0\n",
      "\n",
      "Heat Flux in x-direction (q_x):\n",
      "    -0.0  0.0  0.0  0.0  0.0  0.0  0.0  0.0  0.0  -0.0\n",
      "    -48.6  -33.5  -12.9  -5.2  -1.4  1.4  5.2  12.9  33.5  48.6\n",
      "    -27.6  -22.3  -13.0  -6.5  -2.0  2.0  6.5  13.0  22.3  27.6\n",
      "    -17.2  -15.0  -10.4  -5.8  -1.9  1.9  5.8  10.4  15.0  17.2\n",
      "    -11.3  -10.2  -7.6  -4.6  -1.5  1.5  4.6  7.6  10.2  11.3\n",
      "    -7.5  -6.9  -5.4  -3.3  -1.1  1.1  3.3  5.4  6.9  7.5\n",
      "    -4.9  -4.5  -3.6  -2.3  -0.8  0.8  2.3  3.6  4.5  4.9\n",
      "    -2.9  -2.7  -2.2  -1.4  -0.5  0.5  1.4  2.2  2.7  2.9\n",
      "    -1.4  -1.3  -1.0  -0.7  -0.2  0.2  0.7  1.0  1.3  1.4\n",
      "    -0.0  0.0  0.0  0.0  0.0  0.0  0.0  0.0  0.0  -0.0\n",
      "\n",
      "Heat Flux in y-direction (q_y):\n",
      "    0.0  51.4  33.1  25.5  22.7  22.7  25.5  33.1  51.4  0.0\n",
      "    0.0  36.2  27.7  23.2  21.2  21.2  23.2  27.7  36.2  0.0\n",
      "    0.0  15.7  18.4  18.2  17.8  17.8  18.2  18.4  15.7  0.0\n",
      "    0.0  8.2  12.1  13.6  14.0  14.0  13.6  12.1  8.2  0.0\n",
      "    0.0  4.9  8.1  9.9  10.6  10.6  9.9  8.1  4.9  0.0\n",
      "    0.0  3.2  5.7  7.3  8.0  8.0  7.3  5.7  3.2  0.0\n",
      "    0.0  2.3  4.2  5.5  6.1  6.1  5.5  4.2  2.3  0.0\n",
      "    0.0  1.7  3.2  4.3  4.8  4.8  4.3  3.2  1.7  0.0\n",
      "    0.0  1.5  2.7  3.6  4.1  4.1  3.6  2.7  1.5  0.0\n",
      "    0.0  1.4  2.6  3.4  3.9  3.9  3.4  2.6  1.4  0.0\n"
     ]
    }
   ],
   "source": [
    "# Printing the temperature distribution matrix\n",
    "\n",
    "def print_temperature_distribution(T):\n",
    "    print(\"Temperature Distribution (°C):\")\n",
    "    print(\"Top edge (y = 0):\", \" \".join(f\"{temp:.1f}\" for temp in T[0]))\n",
    "    print(\"-\" * 45)\n",
    "    for i in range(1, len(T) - 1):\n",
    "        print(f\"y = {i}:  \", \" \".join(f\"{temp:.1f}\" for temp in T[i]))\n",
    "    print(\"-\" * 45)\n",
    "    print(\"Bottom edge (y = 9):\", \" \".join(f\"{temp:.1f}\" for temp in T[-1]))\n",
    "\n",
    "# Printing the heat flux matrix\n",
    "\n",
    "def print_heat_flux(qx, qy):\n",
    "    print(\"\\nHeat Flux in x-direction (q_x):\")\n",
    "    for row in qx:\n",
    "        print(\"   \", \"  \".join(f\"{flux:.1f}\" for flux in row))\n",
    "    print(\"\\nHeat Flux in y-direction (q_y):\")\n",
    "    for row in qy:\n",
    "        print(\"   \", \"  \".join(f\"{flux:.1f}\" for flux in row))\n",
    "\n",
    "# Calling the functions to print the output\n",
    "\n",
    "print_temperature_distribution(T)\n",
    "print_heat_flux(qx, qy)"
   ]
  },
  {
   "cell_type": "markdown",
   "id": "0fbe1b01",
   "metadata": {},
   "source": [
    "## Explanation "
   ]
  },
  {
   "cell_type": "markdown",
   "id": "4bda0578",
   "metadata": {},
   "source": [
    "#### 1. Initialization: To simulate heat conduction, the code creates a 10x10 grid and sets temperatures to zero except for the top and bottom boundaries.\n",
    "\n",
    "#### 2. Simulation Process: Uses a finite difference method to iteratively update internal grid temperatures using the average temperatures of their four nearest neighbors. The process continues until the highest temperature difference between iterations is less than a threshold that has been set, or until the maximum number of iterations is reached.\n",
    "\n",
    "### Outputs: - \n",
    "   #### Temperature Distribution: Displays temperature distribution from hot top border to cool bottom border, showing a balanced heat transfer across the grid.\n",
    "   #### Heat Flux: Provides matrices in both x and y directions that show the amount and direction of heat flow, showing how heat transfers mainly from higher to lower temperature regions."
   ]
  },
  {
   "cell_type": "code",
   "execution_count": null,
   "id": "1d20655f",
   "metadata": {},
   "outputs": [],
   "source": []
  }
 ],
 "metadata": {
  "kernelspec": {
   "display_name": "Python 3 (ipykernel)",
   "language": "python",
   "name": "python3"
  },
  "language_info": {
   "codemirror_mode": {
    "name": "ipython",
    "version": 3
   },
   "file_extension": ".py",
   "mimetype": "text/x-python",
   "name": "python",
   "nbconvert_exporter": "python",
   "pygments_lexer": "ipython3",
   "version": "3.11.5"
  }
 },
 "nbformat": 4,
 "nbformat_minor": 5
}
